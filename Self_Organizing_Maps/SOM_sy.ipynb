{
  "nbformat": 4,
  "nbformat_minor": 0,
  "metadata": {
    "colab": {
      "provenance": [],
      "gpuType": "T4"
    },
    "kernelspec": {
      "name": "python3",
      "display_name": "Python 3"
    },
    "accelerator": "GPU"
  },
  "cells": [
    {
      "cell_type": "markdown",
      "metadata": {
        "id": "t9oX7AL3nyLm"
      },
      "source": [
        "#Self Organizing Map"
      ]
    },
    {
      "cell_type": "markdown",
      "metadata": {
        "id": "r9maNhdd65pB"
      },
      "source": [
        "##Install MiniSom Package"
      ]
    },
    {
      "cell_type": "code",
      "metadata": {
        "id": "1KB28WUso0Bj",
        "outputId": "65b63a53-0421-487a-b1a8-e88505c5095e",
        "colab": {
          "base_uri": "https://localhost:8080/"
        }
      },
      "source": [
        "!pip install MiniSom"
      ],
      "execution_count": 1,
      "outputs": [
        {
          "output_type": "stream",
          "name": "stdout",
          "text": [
            "Collecting MiniSom\n",
            "  Downloading MiniSom-2.3.1.tar.gz (10 kB)\n",
            "  Preparing metadata (setup.py) ... \u001b[?25l\u001b[?25hdone\n",
            "Building wheels for collected packages: MiniSom\n",
            "  Building wheel for MiniSom (setup.py) ... \u001b[?25l\u001b[?25hdone\n",
            "  Created wheel for MiniSom: filename=MiniSom-2.3.1-py3-none-any.whl size=10588 sha256=3c8c81acf5fdc14ffa6753b7c5918adbdef532820dc5b6cbda99dea802780021\n",
            "  Stored in directory: /root/.cache/pip/wheels/c7/92/d2/33bbda5f86fd8830510b16aa98c8dd420129b5cb24248fd6db\n",
            "Successfully built MiniSom\n",
            "Installing collected packages: MiniSom\n",
            "Successfully installed MiniSom-2.3.1\n"
          ]
        }
      ]
    },
    {
      "cell_type": "markdown",
      "metadata": {
        "id": "6AX0Y23PnyOI"
      },
      "source": [
        "### Importing the libraries\n"
      ]
    },
    {
      "cell_type": "code",
      "metadata": {
        "id": "gaSkOFKKBB3b"
      },
      "source": [
        "import numpy as np\n",
        "import pandas as pd\n",
        "import matplotlib.pyplot as plt"
      ],
      "execution_count": 31,
      "outputs": []
    },
    {
      "cell_type": "markdown",
      "metadata": {
        "id": "SCl7ERn_n539"
      },
      "source": [
        "## Importing the dataset"
      ]
    },
    {
      "cell_type": "code",
      "metadata": {
        "id": "4hgeaN3CoRfl"
      },
      "source": [
        "# 사기꾼 고객 찾기\n",
        "# https://archive.ics.uci.edu/dataset/143/statlog+australian+credit+approval\n",
        "dataset = pd.read_csv('Credit_Card_Applications.csv')\n",
        "X = dataset.iloc[:, :-1].values\n",
        "y = dataset.iloc[:, -1].values"
      ],
      "execution_count": 32,
      "outputs": []
    },
    {
      "cell_type": "code",
      "source": [
        "X.shape, y.shape"
      ],
      "metadata": {
        "colab": {
          "base_uri": "https://localhost:8080/"
        },
        "id": "2sInGn-_VBA2",
        "outputId": "0f1cb7f4-6f9a-4850-bdb9-3a9f350c58f6"
      },
      "execution_count": 33,
      "outputs": [
        {
          "output_type": "execute_result",
          "data": {
            "text/plain": [
              "((690, 15), (690,))"
            ]
          },
          "metadata": {},
          "execution_count": 33
        }
      ]
    },
    {
      "cell_type": "markdown",
      "metadata": {
        "id": "fYHJ0dd6n-d4"
      },
      "source": [
        "## Feature Scaling\n"
      ]
    },
    {
      "cell_type": "code",
      "source": [
        "from sklearn.preprocessing import MinMaxScaler\n",
        "sc = MinMaxScaler(feature_range = (0,1))\n",
        "X = sc.fit_transform(X)"
      ],
      "metadata": {
        "id": "72GgCHvLU9DQ"
      },
      "execution_count": 34,
      "outputs": []
    },
    {
      "cell_type": "code",
      "source": [
        "X[0]"
      ],
      "metadata": {
        "colab": {
          "base_uri": "https://localhost:8080/"
        },
        "id": "9jtxFIf8XJtW",
        "outputId": "3eac88e2-aa8b-498a-a20b-0450fad33c8e"
      },
      "execution_count": 35,
      "outputs": [
        {
          "output_type": "execute_result",
          "data": {
            "text/plain": [
              "array([0.84268147, 1.        , 0.12526316, 0.40928571, 0.5       ,\n",
              "       0.23076923, 0.375     , 0.05561404, 0.        , 0.        ,\n",
              "       0.        , 1.        , 0.5       , 0.05      , 0.01212   ])"
            ]
          },
          "metadata": {},
          "execution_count": 35
        }
      ]
    },
    {
      "cell_type": "markdown",
      "metadata": {
        "id": "aPp-7wfNoAhR"
      },
      "source": [
        "##Training the SOM\n"
      ]
    },
    {
      "cell_type": "code",
      "source": [
        "from minisom import MiniSom\n",
        "\n",
        "som = MiniSom(x = 10, y = 10  # 그리드 크기(지도크기)\n",
        "              , input_len = 15\n",
        "              , sigma = 1           # default\n",
        "              , learning_rate = 0.5 # default\n",
        "              )"
      ],
      "metadata": {
        "id": "eWN3LqhUU9Zv"
      },
      "execution_count": 36,
      "outputs": []
    },
    {
      "cell_type": "code",
      "source": [
        "# 훈련데이터(무게를 초기화)\n",
        "som.random_weights_init(X)"
      ],
      "metadata": {
        "id": "TC2A7JmlaUb2"
      },
      "execution_count": 37,
      "outputs": []
    },
    {
      "cell_type": "code",
      "source": [
        "# 그리드에 훈련\n",
        "som.train_random(data = X, num_iteration = 100)"
      ],
      "metadata": {
        "id": "SRXujy8qaWCk"
      },
      "execution_count": 38,
      "outputs": []
    },
    {
      "cell_type": "markdown",
      "metadata": {
        "id": "YiU27C-ToCnH"
      },
      "source": [
        "##Visualizing the results\n"
      ]
    },
    {
      "cell_type": "code",
      "source": [
        "# 시각화로 동떨어진 뉴런 찾기\n",
        "from pylab import bone, pcolor, colorbar, plot, show\n",
        "\n",
        "bone()\n",
        "pcolor(som.distance_map().T)\n",
        "colorbar()\n",
        "# MID가 클 수록 밝은 컬러 = 사기꾼\n",
        "\n",
        "# 마커 추가\n",
        "markers = ['o','s']\n",
        "colors = ['r','g']\n",
        "\n",
        "for i, x in enumerate(X):\n",
        "  w = som.winner(x)\n",
        "  plot(w[0] + 0.5   # 가로 중앙\n",
        "      ,w[1] + 0.5   # 세로 중앙\n",
        "      ,markers[y[i]]\n",
        "      ,markeredgecolor =  colors[y[i]]\n",
        "      ,markerfacecolor = 'None'\n",
        "      ,markersize=10\n",
        "      ,markeredgewidth = 2\n",
        "  )\n",
        "show()"
      ],
      "metadata": {
        "colab": {
          "base_uri": "https://localhost:8080/",
          "height": 435
        },
        "id": "Mgq-W1d2U9zc",
        "outputId": "00905dc6-9f4c-4177-f5ba-34bfb5e731cd"
      },
      "execution_count": 39,
      "outputs": [
        {
          "output_type": "display_data",
          "data": {
            "text/plain": [
              "<Figure size 640x480 with 2 Axes>"
            ],
            "image/png": "[encoded data removed]"
          },
          "metadata": {}
        }
      ]
    },
    {
      "cell_type": "markdown",
      "metadata": {
        "id": "4C-I_jBfoEkP"
      },
      "source": [
        "## Finding the frauds\n"
      ]
    },
    {
      "cell_type": "code",
      "source": [
        "# 위닝 노드 좌표, 고객 정보\n",
        "mappings = som.win_map(X)"
      ],
      "metadata": {
        "id": "yK5bTJpFU-Yx"
      },
      "execution_count": 42,
      "outputs": []
    },
    {
      "cell_type": "code",
      "source": [
        "type(mappings)"
      ],
      "metadata": {
        "colab": {
          "base_uri": "https://localhost:8080/"
        },
        "id": "aEPDZpr6gMwi",
        "outputId": "9d96efec-5998-4915-de19-243daa1c8286"
      },
      "execution_count": 43,
      "outputs": [
        {
          "output_type": "execute_result",
          "data": {
            "text/plain": [
              "collections.defaultdict"
            ]
          },
          "metadata": {},
          "execution_count": 43
        }
      ]
    },
    {
      "cell_type": "code",
      "source": [
        "# 지도를 통해 동떨어진 위닝노드의 좌표(8,3) 얻기\n",
        "frauds = np.concatenate((mappings[(8,3)],mappings[(7,4)]),axis=0) # => (8,3),(7,4)좌표 위닝노드와 관련된 고객 정보 가져"
      ],
      "metadata": {
        "id": "as6HUi9Hg0SQ"
      },
      "execution_count": 47,
      "outputs": []
    },
    {
      "cell_type": "code",
      "source": [
        "frauds"
      ],
      "metadata": {
        "colab": {
          "base_uri": "https://localhost:8080/"
        },
        "id": "B3JerqTXimG3",
        "outputId": "f5eb8106-a00f-4522-99a5-c7a79a2896a7"
      },
      "execution_count": 48,
      "outputs": [
        {
          "output_type": "execute_result",
          "data": {
            "text/plain": [
              "array([[3.44989969e-01, 0.00000000e+00, 3.75939850e-01, 5.35714286e-02,\n",
              "        5.00000000e-01, 0.00000000e+00, 0.00000000e+00, 0.00000000e+00,\n",
              "        0.00000000e+00, 0.00000000e+00, 0.00000000e+00, 0.00000000e+00,\n",
              "        5.00000000e-01, 3.80000000e-02, 0.00000000e+00],\n",
              "       [4.28156121e-01, 0.00000000e+00, 3.45864662e-01, 1.68214286e-01,\n",
              "        5.00000000e-01, 0.00000000e+00, 0.00000000e+00, 0.00000000e+00,\n",
              "        0.00000000e+00, 0.00000000e+00, 0.00000000e+00, 0.00000000e+00,\n",
              "        5.00000000e-01, 8.00000000e-02, 0.00000000e+00],\n",
              "       [6.84017475e-01, 0.00000000e+00, 2.67969925e-01, 4.01785714e-01,\n",
              "        5.00000000e-01, 0.00000000e+00, 0.00000000e+00, 0.00000000e+00,\n",
              "        0.00000000e+00, 0.00000000e+00, 0.00000000e+00, 0.00000000e+00,\n",
              "        5.00000000e-01, 9.20000000e-02, 5.20000000e-02],\n",
              "       [8.54898710e-01, 0.00000000e+00, 2.04210526e-01, 5.94642857e-02,\n",
              "        5.00000000e-01, 0.00000000e+00, 0.00000000e+00, 0.00000000e+00,\n",
              "        0.00000000e+00, 0.00000000e+00, 0.00000000e+00, 0.00000000e+00,\n",
              "        5.00000000e-01, 1.70000000e-01, 1.00000000e-05],\n",
              "       [5.59122088e-01, 0.00000000e+00, 9.89473684e-02, 3.57142857e-01,\n",
              "        5.00000000e-01, 5.38461538e-01, 8.75000000e-01, 3.50877193e-02,\n",
              "        1.00000000e+00, 1.00000000e+00, 5.97014925e-02, 0.00000000e+00,\n",
              "        5.00000000e-01, 2.50000000e-02, 1.46500000e-02],\n",
              "       [6.20392505e-01, 0.00000000e+00, 3.99699248e-01, 2.69285714e-01,\n",
              "        0.00000000e+00, 7.69230769e-01, 8.75000000e-01, 2.80701754e-01,\n",
              "        1.00000000e+00, 1.00000000e+00, 2.08955224e-01, 0.00000000e+00,\n",
              "        5.00000000e-01, 0.00000000e+00, 2.30000000e-02],\n",
              "       [9.18455606e-01, 0.00000000e+00, 8.15037594e-02, 3.06607143e-01,\n",
              "        5.00000000e-01, 9.23076923e-01, 8.75000000e-01, 2.63157895e-02,\n",
              "        1.00000000e+00, 1.00000000e+00, 1.04477612e-01, 0.00000000e+00,\n",
              "        5.00000000e-01, 4.80000000e-02, 0.00000000e+00],\n",
              "       [7.22959688e-01, 0.00000000e+00, 1.55338346e-01, 1.78571429e-02,\n",
              "        5.00000000e-01, 7.69230769e-01, 8.75000000e-01, 4.38596491e-02,\n",
              "        1.00000000e+00, 1.00000000e+00, 1.49253731e-02, 0.00000000e+00,\n",
              "        5.00000000e-01, 0.00000000e+00, 6.78000000e-03],\n",
              "       [8.33151136e-01, 0.00000000e+00, 3.25864662e-01, 4.28571429e-01,\n",
              "        5.00000000e-01, 7.69230769e-01, 8.75000000e-01, 4.91228070e-01,\n",
              "        1.00000000e+00, 1.00000000e+00, 1.19402985e-01, 0.00000000e+00,\n",
              "        5.00000000e-01, 0.00000000e+00, 6.59000000e-02],\n",
              "       [8.51446969e-01, 0.00000000e+00, 6.13533835e-02, 3.92857143e-01,\n",
              "        5.00000000e-01, 1.00000000e+00, 8.75000000e-01, 3.50877193e-02,\n",
              "        1.00000000e+00, 1.00000000e+00, 1.64179104e-01, 0.00000000e+00,\n",
              "        5.00000000e-01, 0.00000000e+00, 3.00000000e-02],\n",
              "       [9.05201238e-01, 0.00000000e+00, 1.98045113e-01, 4.82142857e-01,\n",
              "        5.00000000e-01, 7.69230769e-01, 8.75000000e-01, 1.75438596e-01,\n",
              "        1.00000000e+00, 1.00000000e+00, 2.98507463e-02, 0.00000000e+00,\n",
              "        5.00000000e-01, 0.00000000e+00, 5.00000000e-02],\n",
              "       [8.44034934e-01, 0.00000000e+00, 2.05563910e-01, 5.17857143e-01,\n",
              "        5.00000000e-01, 1.00000000e+00, 8.75000000e-01, 1.08245614e-01,\n",
              "        1.00000000e+00, 1.00000000e+00, 1.49253731e-02, 0.00000000e+00,\n",
              "        5.00000000e-01, 6.00000000e-02, 1.10000000e-04]])"
            ]
          },
          "metadata": {},
          "execution_count": 48
        }
      ]
    },
    {
      "cell_type": "code",
      "source": [
        "frauds = sc.inverse_transform(frauds)"
      ],
      "metadata": {
        "id": "Du_RKpEkjnjQ"
      },
      "execution_count": 49,
      "outputs": []
    },
    {
      "cell_type": "code",
      "source": [
        "frauds[0]"
      ],
      "metadata": {
        "colab": {
          "base_uri": "https://localhost:8080/"
        },
        "id": "J0JraupVjvNl",
        "outputId": "5f56121c-d5ba-4cbb-ba96-fb7b38be3c15"
      },
      "execution_count": 51,
      "outputs": [
        {
          "output_type": "execute_result",
          "data": {
            "text/plain": [
              "array([1.5651868e+07, 0.0000000e+00, 3.8750000e+01, 1.5000000e+00,\n",
              "       2.0000000e+00, 1.0000000e+00, 1.0000000e+00, 0.0000000e+00,\n",
              "       0.0000000e+00, 0.0000000e+00, 0.0000000e+00, 0.0000000e+00,\n",
              "       2.0000000e+00, 7.6000000e+01, 1.0000000e+00])"
            ]
          },
          "metadata": {},
          "execution_count": 51
        }
      ]
    }
  ]
}