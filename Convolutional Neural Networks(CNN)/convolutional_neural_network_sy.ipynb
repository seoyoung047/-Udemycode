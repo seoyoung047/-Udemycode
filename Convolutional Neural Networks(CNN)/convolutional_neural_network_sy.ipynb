{
  "cells": [
    {
      "cell_type": "markdown",
      "metadata": {
        "id": "3DR-eO17geWu"
      },
      "source": [
        "# Convolutional Neural Network"
      ]
    },
    {
      "cell_type": "markdown",
      "metadata": {
        "id": "EMefrVPCg-60"
      },
      "source": [
        "### Importing the libraries"
      ]
    },
    {
      "cell_type": "code",
      "execution_count": 1,
      "metadata": {
        "id": "N_Z0g5Ye8wtG"
      },
      "outputs": [],
      "source": [
        "import tensorflow as tf\n",
        "from keras.preprocessing.image import ImageDataGenerator"
      ]
    },
    {
      "cell_type": "code",
      "execution_count": 2,
      "metadata": {
        "colab": {
          "base_uri": "https://localhost:8080/",
          "height": 35
        },
        "id": "_gnlQaT489w6",
        "outputId": "7b2feb1d-d8d1-4a17-ef7b-809b94233531"
      },
      "outputs": [
        {
          "data": {
            "text/plain": [
              "'2.9.0'"
            ]
          },
          "execution_count": 2,
          "metadata": {},
          "output_type": "execute_result"
        }
      ],
      "source": [
        "tf.__version__"
      ]
    },
    {
      "cell_type": "markdown",
      "metadata": {
        "id": "oxQxCBWyoGPE"
      },
      "source": [
        "## Part 1 - Data Preprocessing"
      ]
    },
    {
      "cell_type": "markdown",
      "metadata": {},
      "source": [
        "훈련데이터 과적합 방지를 위한 이미지 증강(변형)"
      ]
    },
    {
      "cell_type": "markdown",
      "metadata": {
        "id": "MvE-heJNo3GG"
      },
      "source": [
        "### Preprocessing the Training set"
      ]
    },
    {
      "cell_type": "code",
      "execution_count": 3,
      "metadata": {
        "id": "R-T8-1HD9EXU"
      },
      "outputs": [],
      "source": [
        "train_datagen = ImageDataGenerator(\n",
        "          rescale = 1./255,\n",
        "          shear_range = 0.2,\n",
        "          zoom_range = 0.2,\n",
        "          horizontal_flip = True)\n"
      ]
    },
    {
      "cell_type": "code",
      "execution_count": 4,
      "metadata": {
        "id": "NXX-Fpjw_QTs"
      },
      "outputs": [
        {
          "name": "stdout",
          "output_type": "stream",
          "text": [
            "Found 8000 images belonging to 2 classes.\n"
          ]
        }
      ],
      "source": [
        "training_set = train_datagen.flow_from_directory(\n",
        "        'dataset/training_set',\n",
        "        target_size = (64, 64),\n",
        "        batch_size = 32,\n",
        "        class_mode = 'binary')"
      ]
    },
    {
      "cell_type": "markdown",
      "metadata": {
        "id": "mrCMmGw9pHys"
      },
      "source": [
        "### Preprocessing the Test set"
      ]
    },
    {
      "cell_type": "code",
      "execution_count": 5,
      "metadata": {
        "id": "Na-tzjWW_990"
      },
      "outputs": [
        {
          "name": "stdout",
          "output_type": "stream",
          "text": [
            "Found 2000 images belonging to 2 classes.\n"
          ]
        }
      ],
      "source": [
        "test_datagen = ImageDataGenerator(rescale = 1./255)\n",
        "test_set = test_datagen.flow_from_directory(\n",
        "        'dataset/test_set',\n",
        "        target_size = (64, 64),\n",
        "        batch_size = 32,\n",
        "        class_mode = 'binary')"
      ]
    },
    {
      "cell_type": "markdown",
      "metadata": {
        "id": "af8O4l90gk7B"
      },
      "source": [
        "## Part 2 - Building the CNN"
      ]
    },
    {
      "cell_type": "markdown",
      "metadata": {
        "id": "ces1gXY2lmoX"
      },
      "source": [
        "### Initialising the CNN"
      ]
    },
    {
      "cell_type": "code",
      "execution_count": 6,
      "metadata": {
        "id": "f5DxOzjL8zn-"
      },
      "outputs": [],
      "source": [
        "cnn = tf.keras.models.Sequential()"
      ]
    },
    {
      "cell_type": "markdown",
      "metadata": {
        "id": "u5YJj_XMl5LF"
      },
      "source": [
        "### Step 1 - Convolution"
      ]
    },
    {
      "cell_type": "code",
      "execution_count": 7,
      "metadata": {
        "id": "upL09EXl9FZk"
      },
      "outputs": [],
      "source": [
        "cnn.add(tf.keras.layers.Conv2D(filters=32, kernel_size=3, activation='relu', input_shape=[64,64,3]))"
      ]
    },
    {
      "cell_type": "markdown",
      "metadata": {
        "id": "tf87FpvxmNOJ"
      },
      "source": [
        "### Step 2 - Pooling"
      ]
    },
    {
      "cell_type": "code",
      "execution_count": 8,
      "metadata": {
        "id": "kK-rHW-j_Yo1"
      },
      "outputs": [],
      "source": [
        "cnn.add(tf.keras.layers.MaxPool2D(pool_size=2, strides=2))"
      ]
    },
    {
      "cell_type": "markdown",
      "metadata": {
        "id": "xaTOgD8rm4mU"
      },
      "source": [
        "### Adding a second convolutional layer"
      ]
    },
    {
      "cell_type": "code",
      "execution_count": 9,
      "metadata": {
        "id": "5gPqX8NkAdfe"
      },
      "outputs": [],
      "source": [
        "cnn.add(tf.keras.layers.Conv2D(filters=32, kernel_size=3, activation='relu'))\n",
        "cnn.add(tf.keras.layers.MaxPool2D(pool_size=2, strides=2))"
      ]
    },
    {
      "cell_type": "markdown",
      "metadata": {
        "id": "tmiEuvTunKfk"
      },
      "source": [
        "### Step 3 - Flattening"
      ]
    },
    {
      "cell_type": "code",
      "execution_count": 10,
      "metadata": {
        "id": "bQn4S7q-AnQs"
      },
      "outputs": [],
      "source": [
        "cnn.add(tf.keras.layers.Flatten())"
      ]
    },
    {
      "cell_type": "markdown",
      "metadata": {
        "id": "dAoSECOm203v"
      },
      "source": [
        "### Step 4 - Full Connection"
      ]
    },
    {
      "cell_type": "code",
      "execution_count": 11,
      "metadata": {
        "id": "TUx1Qo4UAzFz"
      },
      "outputs": [],
      "source": [
        "cnn.add(tf.keras.layers.Dense(units=128, activation='relu'))"
      ]
    },
    {
      "cell_type": "markdown",
      "metadata": {
        "id": "yTldFvbX28Na"
      },
      "source": [
        "### Step 5 - Output Layer"
      ]
    },
    {
      "cell_type": "code",
      "execution_count": 12,
      "metadata": {
        "id": "Gs3WsXItBJ4V"
      },
      "outputs": [],
      "source": [
        "cnn.add(tf.keras.layers.Dense(units=1, activation='sigmoid'))"
      ]
    },
    {
      "cell_type": "markdown",
      "metadata": {
        "id": "D6XkI90snSDl"
      },
      "source": [
        "## Part 3 - Training the CNN"
      ]
    },
    {
      "cell_type": "markdown",
      "metadata": {
        "id": "vfrFQACEnc6i"
      },
      "source": [
        "### Compiling the CNN"
      ]
    },
    {
      "cell_type": "code",
      "execution_count": 16,
      "metadata": {
        "id": "6Vkl6eoKBaRs"
      },
      "outputs": [],
      "source": [
        "cnn.compile(optimizer='adam',loss = 'binary_crossentropy', metrics=['accuracy'])"
      ]
    },
    {
      "cell_type": "markdown",
      "metadata": {
        "id": "ehS-v3MIpX2h"
      },
      "source": [
        "### Training the CNN on the Training set and evaluating it on the Test set"
      ]
    },
    {
      "cell_type": "code",
      "execution_count": 17,
      "metadata": {
        "id": "FtaMUJUsBksz"
      },
      "outputs": [
        {
          "name": "stdout",
          "output_type": "stream",
          "text": [
            "Epoch 1/25\n",
            "250/250 [==============================] - 433s 2s/step - loss: 0.6807 - accuracy: 0.5730 - val_loss: 0.6678 - val_accuracy: 0.6140\n",
            "Epoch 2/25\n",
            "250/250 [==============================] - 62s 248ms/step - loss: 0.6370 - accuracy: 0.6465 - val_loss: 0.6014 - val_accuracy: 0.6900\n",
            "Epoch 3/25\n",
            "250/250 [==============================] - 85s 341ms/step - loss: 0.5974 - accuracy: 0.6762 - val_loss: 0.5707 - val_accuracy: 0.7095\n",
            "Epoch 4/25\n",
            "250/250 [==============================] - 80s 321ms/step - loss: 0.5692 - accuracy: 0.7032 - val_loss: 0.5476 - val_accuracy: 0.7200\n",
            "Epoch 5/25\n",
            "250/250 [==============================] - 60s 239ms/step - loss: 0.5437 - accuracy: 0.7193 - val_loss: 0.5828 - val_accuracy: 0.6930\n",
            "Epoch 6/25\n",
            "250/250 [==============================] - 96s 385ms/step - loss: 0.5188 - accuracy: 0.7379 - val_loss: 0.5185 - val_accuracy: 0.7595\n",
            "Epoch 7/25\n",
            "250/250 [==============================] - 78s 313ms/step - loss: 0.5097 - accuracy: 0.7456 - val_loss: 0.5717 - val_accuracy: 0.7220\n",
            "Epoch 8/25\n",
            "250/250 [==============================] - 77s 306ms/step - loss: 0.4834 - accuracy: 0.7653 - val_loss: 0.5525 - val_accuracy: 0.7475\n",
            "Epoch 9/25\n",
            "250/250 [==============================] - 73s 290ms/step - loss: 0.4671 - accuracy: 0.7754 - val_loss: 0.5776 - val_accuracy: 0.7315\n",
            "Epoch 10/25\n",
            "250/250 [==============================] - 79s 316ms/step - loss: 0.4494 - accuracy: 0.7928 - val_loss: 0.5265 - val_accuracy: 0.7610\n",
            "Epoch 11/25\n",
            "250/250 [==============================] - 79s 315ms/step - loss: 0.4400 - accuracy: 0.7947 - val_loss: 0.5007 - val_accuracy: 0.7670\n",
            "Epoch 12/25\n",
            "250/250 [==============================] - 78s 313ms/step - loss: 0.4292 - accuracy: 0.8021 - val_loss: 0.4826 - val_accuracy: 0.7710\n",
            "Epoch 13/25\n",
            "250/250 [==============================] - 78s 312ms/step - loss: 0.4118 - accuracy: 0.8074 - val_loss: 0.5022 - val_accuracy: 0.7695\n",
            "Epoch 14/25\n",
            "250/250 [==============================] - 82s 327ms/step - loss: 0.4002 - accuracy: 0.8201 - val_loss: 0.5884 - val_accuracy: 0.7380\n",
            "Epoch 15/25\n",
            "250/250 [==============================] - 84s 334ms/step - loss: 0.3965 - accuracy: 0.8159 - val_loss: 0.4758 - val_accuracy: 0.7895\n",
            "Epoch 16/25\n",
            "250/250 [==============================] - 83s 333ms/step - loss: 0.3747 - accuracy: 0.8339 - val_loss: 0.5277 - val_accuracy: 0.7575\n",
            "Epoch 17/25\n",
            "250/250 [==============================] - 83s 333ms/step - loss: 0.3706 - accuracy: 0.8328 - val_loss: 0.4803 - val_accuracy: 0.7880\n",
            "Epoch 18/25\n",
            "250/250 [==============================] - 84s 334ms/step - loss: 0.3571 - accuracy: 0.8401 - val_loss: 0.4760 - val_accuracy: 0.7980\n",
            "Epoch 19/25\n",
            "250/250 [==============================] - 84s 336ms/step - loss: 0.3445 - accuracy: 0.8475 - val_loss: 0.4796 - val_accuracy: 0.8000\n",
            "Epoch 20/25\n",
            "250/250 [==============================] - 68s 270ms/step - loss: 0.3300 - accuracy: 0.8556 - val_loss: 0.4808 - val_accuracy: 0.7970\n",
            "Epoch 21/25\n",
            "250/250 [==============================] - 35s 140ms/step - loss: 0.3261 - accuracy: 0.8559 - val_loss: 0.4880 - val_accuracy: 0.7945\n",
            "Epoch 22/25\n",
            "250/250 [==============================] - 61s 242ms/step - loss: 0.3155 - accuracy: 0.8606 - val_loss: 0.4659 - val_accuracy: 0.8020\n",
            "Epoch 23/25\n",
            "250/250 [==============================] - 84s 335ms/step - loss: 0.3137 - accuracy: 0.8620 - val_loss: 0.4817 - val_accuracy: 0.7975\n",
            "Epoch 24/25\n",
            "250/250 [==============================] - 84s 334ms/step - loss: 0.2910 - accuracy: 0.8783 - val_loss: 0.4896 - val_accuracy: 0.8025\n",
            "Epoch 25/25\n",
            "250/250 [==============================] - 83s 334ms/step - loss: 0.2919 - accuracy: 0.8737 - val_loss: 0.4936 - val_accuracy: 0.8075\n"
          ]
        },
        {
          "data": {
            "text/plain": [
              "<keras.callbacks.History at 0x21a7d32d390>"
            ]
          },
          "execution_count": 17,
          "metadata": {},
          "output_type": "execute_result"
        }
      ],
      "source": [
        "cnn.fit(x = training_set, validation_data = test_set, epochs = 25)\n",
        "# batch_size=32 * 1epoch 당 250 단계(iteration) = 총 8000장 이미지 => 25epoch 반복\n",
        "# ==> 총 8000*25 학습"
      ]
    },
    {
      "cell_type": "markdown",
      "metadata": {
        "id": "U3PZasO0006Z"
      },
      "source": [
        "## Part 4 - Making a single prediction"
      ]
    },
    {
      "cell_type": "code",
      "execution_count": 25,
      "metadata": {
        "id": "0_-x-S6rNg9n"
      },
      "outputs": [],
      "source": [
        "import numpy as np\n",
        "# from keras.preprocessing import image\n",
        "from keras import utils"
      ]
    },
    {
      "cell_type": "code",
      "execution_count": 48,
      "metadata": {
        "id": "NHDP8PAlNvAz"
      },
      "outputs": [],
      "source": [
        "test_image = utils.load_img(\n",
        "        'dataset/single_prediction/cat_or_dog_2.jpg'\n",
        "        , target_size = (64,64)\n",
        "        )"
      ]
    },
    {
      "cell_type": "code",
      "execution_count": 50,
      "metadata": {
        "id": "BDx6-EyFOJSX"
      },
      "outputs": [],
      "source": [
        "# 이미지 -> 2차원 배열로 변환\n",
        "test_image = utils.img_to_array(test_image)"
      ]
    },
    {
      "cell_type": "code",
      "execution_count": 51,
      "metadata": {},
      "outputs": [
        {
          "data": {
            "text/plain": [
              "64"
            ]
          },
          "execution_count": 51,
          "metadata": {},
          "output_type": "execute_result"
        }
      ],
      "source": [
        "len(test_image)"
      ]
    },
    {
      "cell_type": "code",
      "execution_count": 52,
      "metadata": {
        "id": "nEsqwiVdOnRo"
      },
      "outputs": [],
      "source": [
        "# 초기 모델 배치사이즈 통일을 위함\n",
        "# np.expand_dims(차원을 확장할 배열, 새로 추가될 차원의 위치) : 차원추가\n",
        "test_image = np.expand_dims(test_image, axis = 0)"
      ]
    },
    {
      "cell_type": "code",
      "execution_count": 53,
      "metadata": {},
      "outputs": [
        {
          "data": {
            "text/plain": [
              "64"
            ]
          },
          "execution_count": 53,
          "metadata": {},
          "output_type": "execute_result"
        }
      ],
      "source": [
        "len(test_image[0])"
      ]
    },
    {
      "cell_type": "code",
      "execution_count": 43,
      "metadata": {
        "id": "QmIEtA4iPC_9"
      },
      "outputs": [
        {
          "name": "stdout",
          "output_type": "stream",
          "text": [
            "1/1 [==============================] - 0s 26ms/step\n"
          ]
        }
      ],
      "source": [
        "result = cnn.predict(test_image / 225.0)"
      ]
    },
    {
      "cell_type": "code",
      "execution_count": 44,
      "metadata": {},
      "outputs": [
        {
          "data": {
            "text/plain": [
              "array([[0.9998683]], dtype=float32)"
            ]
          },
          "execution_count": 44,
          "metadata": {},
          "output_type": "execute_result"
        }
      ],
      "source": [
        "result"
      ]
    },
    {
      "cell_type": "code",
      "execution_count": 45,
      "metadata": {},
      "outputs": [
        {
          "data": {
            "text/plain": [
              "{'cats': 0, 'dogs': 1}"
            ]
          },
          "execution_count": 45,
          "metadata": {},
          "output_type": "execute_result"
        }
      ],
      "source": [
        "# 강아지1, 고양이0 확인\n",
        "training_set.class_indices"
      ]
    },
    {
      "cell_type": "code",
      "execution_count": 46,
      "metadata": {},
      "outputs": [],
      "source": [
        "if result[0][0]  > 0.5:\n",
        "  prediction = 'dog'\n",
        "else :\n",
        "    prediction = 'cat'"
      ]
    },
    {
      "cell_type": "code",
      "execution_count": 47,
      "metadata": {
        "id": "ED9KB3I54c1i"
      },
      "outputs": [
        {
          "name": "stdout",
          "output_type": "stream",
          "text": [
            "dog\n"
          ]
        }
      ],
      "source": [
        "print(prediction)"
      ]
    }
  ],
  "metadata": {
    "colab": {
      "provenance": []
    },
    "kernelspec": {
      "display_name": "Python 3",
      "name": "python3"
    },
    "language_info": {
      "codemirror_mode": {
        "name": "ipython",
        "version": 3
      },
      "file_extension": ".py",
      "mimetype": "text/x-python",
      "name": "python",
      "nbconvert_exporter": "python",
      "pygments_lexer": "ipython3",
      "version": "3.10.11"
    }
  },
  "nbformat": 4,
  "nbformat_minor": 0
}
